{
 "cells": [
  {
   "cell_type": "markdown",
   "metadata": {},
   "source": [
    "# Grupo 3\n",
    "\n",
    "**Participantes:**<br><br>\n",
    "Daniel Moreira<br>\n",
    "Lia Morimoto<br>\n",
    "Ryan Ferreira<br>\n",
    "Thiago Figueira"
   ]
  },
  {
   "cell_type": "code",
   "execution_count": null,
   "metadata": {
    "id": "g3o2VLFFF4xc"
   },
   "outputs": [],
   "source": [
    "import matplotlib.pyplot as plt\n",
    "import pandas as pd\n",
    "import numpy as np\n",
    "import seaborn as sns"
   ]
  },
  {
   "cell_type": "code",
   "execution_count": null,
   "metadata": {
    "id": "cEOzh7twBSw2"
   },
   "outputs": [],
   "source": [
    "from sklearn.datasets import load_digits\n",
    "from sklearn.decomposition import FastICA\n",
    "from sklearn.model_selection import train_test_split\n",
    "\n",
    "X, y = load_digits(return_X_y=True)"
   ]
  },
  {
   "cell_type": "code",
   "execution_count": null,
   "metadata": {
    "colab": {
     "base_uri": "https://localhost:8080/"
    },
    "id": "pu2w9bVr-vll",
    "outputId": "2e4c7063-c845-43bd-f9f5-1ead16a6f331"
   },
   "outputs": [
    {
     "data": {
      "text/plain": [
       "(1797, 64)"
      ]
     },
     "execution_count": 19,
     "metadata": {
      "tags": []
     },
     "output_type": "execute_result"
    }
   ],
   "source": [
    "X.shape"
   ]
  },
  {
   "cell_type": "code",
   "execution_count": null,
   "metadata": {
    "colab": {
     "base_uri": "https://localhost:8080/"
    },
    "id": "zjLXVxhF-xS1",
    "outputId": "7d3d4460-c273-46d7-d8c2-08ab36f316de"
   },
   "outputs": [
    {
     "data": {
      "text/plain": [
       "(64,)"
      ]
     },
     "execution_count": 20,
     "metadata": {
      "tags": []
     },
     "output_type": "execute_result"
    }
   ],
   "source": [
    "X[0].shape"
   ]
  },
  {
   "cell_type": "code",
   "execution_count": null,
   "metadata": {
    "colab": {
     "base_uri": "https://localhost:8080/",
     "height": 298
    },
    "id": "WmbaFE5hySaF",
    "outputId": "29c26e4f-fa1c-44b7-bb81-1fa7328a8a11"
   },
   "outputs": [
    {
     "data": {
      "text/plain": [
       "<matplotlib.axes._subplots.AxesSubplot at 0x7ff604a2f550>"
      ]
     },
     "execution_count": 21,
     "metadata": {
      "tags": []
     },
     "output_type": "execute_result"
    },
    {
     "data": {
      "image/png": "[encoded data removed]",
      "text/plain": [
       "<Figure size 432x288 with 1 Axes>"
      ]
     },
     "metadata": {
      "needs_background": "light",
      "tags": []
     },
     "output_type": "display_data"
    }
   ],
   "source": [
    "plt.title('Distribuição dos digitos')\n",
    "sns.histplot(y, kde=True, bins=np.linspace(0, 10, 11))"
   ]
  },
  {
   "cell_type": "code",
   "execution_count": null,
   "metadata": {
    "colab": {
     "base_uri": "https://localhost:8080/",
     "height": 240
    },
    "id": "uS8SF6-OqP6S",
    "outputId": "875fd558-c312-4251-be02-893ef5a78162"
   },
   "outputs": [
    {
     "data": {
      "image/png": "[encoded data removed]",
      "text/plain": [
       "<Figure size 432x288 with 10 Axes>"
      ]
     },
     "metadata": {
      "needs_background": "light",
      "tags": []
     },
     "output_type": "display_data"
    }
   ],
   "source": [
    "fig, axs = plt.subplots(2, 5)\n",
    "c = 0\n",
    "for j in range(5):\n",
    "  for i in range(2):\n",
    "    plt.gray() \n",
    "    axs[i, j].imshow(X[c].reshape(8, 8))\n",
    "    axs[i, j].set_title(f'{y[c]}')\n",
    "\n",
    "    for ax in axs.flat:\n",
    "        ax.label_outer()\n",
    "    \n",
    "    c+=1"
   ]
  },
  {
   "cell_type": "code",
   "execution_count": null,
   "metadata": {
    "id": "hTFHhjuT2YYT"
   },
   "outputs": [],
   "source": [
    "from sklearn.model_selection import train_test_split"
   ]
  },
  {
   "cell_type": "code",
   "execution_count": null,
   "metadata": {
    "id": "I7VFTanFBzSU"
   },
   "outputs": [],
   "source": [
    "X_train, X_test, y_train, y_test = train_test_split(X, y, random_state=42, test_size=0.3)"
   ]
  },
  {
   "cell_type": "code",
   "execution_count": null,
   "metadata": {
    "id": "cBCDiST8sdxJ"
   },
   "outputs": [],
   "source": [
    "from sklearn.decomposition import PCA, FastICA\n",
    "from sklearn.preprocessing import StandardScaler\n",
    "\n",
    "pca = PCA(random_state=42, n_components=32)\n",
    "ica = FastICA(random_state=42, max_iter=8000)\n",
    "\n",
    "sc = StandardScaler()\n",
    "X_train = sc.fit_transform(X_train)\n",
    "X_test = sc.transform(X_test)\n",
    "\n",
    "X_train = pca.fit_transform(X_train)\n",
    "X_test = pca.transform(X_test)\n",
    "\n",
    "pca_train = X_train\n",
    "pca_corr = pd.DataFrame(X_train).corr()\n",
    "\n",
    "X_train = ica.fit_transform(X_train)\n",
    "X_test = ica.transform(X_test)"
   ]
  },
  {
   "cell_type": "code",
   "execution_count": null,
   "metadata": {
    "colab": {
     "base_uri": "https://localhost:8080/",
     "height": 224
    },
    "id": "p6DVwa163X9l",
    "outputId": "905de15b-ec18-42bb-9b90-ed2db50a4a42"
   },
   "outputs": [
    {
     "data": {
      "text/html": [
       "<div>\n",
       "<style scoped>\n",
       "    .dataframe tbody tr th:only-of-type {\n",
       "        vertical-align: middle;\n",
       "    }\n",
       "\n",
       "    .dataframe tbody tr th {\n",
       "        vertical-align: top;\n",
       "    }\n",
       "\n",
       "    .dataframe thead th {\n",
       "        text-align: right;\n",
       "    }\n",
       "</style>\n",
       "<table border=\"1\" class=\"dataframe\">\n",
       "  <thead>\n",
       "    <tr style=\"text-align: right;\">\n",
       "      <th></th>\n",
       "      <th>0</th>\n",
       "      <th>1</th>\n",
       "      <th>2</th>\n",
       "      <th>3</th>\n",
       "      <th>4</th>\n",
       "      <th>5</th>\n",
       "      <th>6</th>\n",
       "      <th>7</th>\n",
       "      <th>8</th>\n",
       "      <th>9</th>\n",
       "      <th>10</th>\n",
       "      <th>11</th>\n",
       "      <th>12</th>\n",
       "      <th>13</th>\n",
       "      <th>14</th>\n",
       "      <th>15</th>\n",
       "      <th>16</th>\n",
       "      <th>17</th>\n",
       "      <th>18</th>\n",
       "      <th>19</th>\n",
       "      <th>20</th>\n",
       "      <th>21</th>\n",
       "      <th>22</th>\n",
       "      <th>23</th>\n",
       "      <th>24</th>\n",
       "      <th>25</th>\n",
       "      <th>26</th>\n",
       "      <th>27</th>\n",
       "      <th>28</th>\n",
       "      <th>29</th>\n",
       "      <th>30</th>\n",
       "      <th>31</th>\n",
       "    </tr>\n",
       "  </thead>\n",
       "  <tbody>\n",
       "    <tr>\n",
       "      <th>0</th>\n",
       "      <td>0.034553</td>\n",
       "      <td>0.003081</td>\n",
       "      <td>0.001539</td>\n",
       "      <td>0.006948</td>\n",
       "      <td>0.010180</td>\n",
       "      <td>-0.000589</td>\n",
       "      <td>0.017748</td>\n",
       "      <td>-0.012820</td>\n",
       "      <td>-0.006514</td>\n",
       "      <td>0.011325</td>\n",
       "      <td>-0.000812</td>\n",
       "      <td>0.000998</td>\n",
       "      <td>-0.000041</td>\n",
       "      <td>0.001237</td>\n",
       "      <td>-0.092561</td>\n",
       "      <td>-0.057081</td>\n",
       "      <td>0.003196</td>\n",
       "      <td>-0.000615</td>\n",
       "      <td>0.000752</td>\n",
       "      <td>-0.013502</td>\n",
       "      <td>-0.032397</td>\n",
       "      <td>0.026879</td>\n",
       "      <td>0.051217</td>\n",
       "      <td>-0.008701</td>\n",
       "      <td>0.030361</td>\n",
       "      <td>0.053967</td>\n",
       "      <td>0.008908</td>\n",
       "      <td>-0.004499</td>\n",
       "      <td>-0.002673</td>\n",
       "      <td>-0.041920</td>\n",
       "      <td>-0.003797</td>\n",
       "      <td>-0.004534</td>\n",
       "    </tr>\n",
       "    <tr>\n",
       "      <th>1</th>\n",
       "      <td>-0.007550</td>\n",
       "      <td>0.019833</td>\n",
       "      <td>-0.019171</td>\n",
       "      <td>0.003091</td>\n",
       "      <td>-0.001032</td>\n",
       "      <td>0.005832</td>\n",
       "      <td>-0.020165</td>\n",
       "      <td>-0.008720</td>\n",
       "      <td>0.045178</td>\n",
       "      <td>0.007213</td>\n",
       "      <td>-0.001639</td>\n",
       "      <td>-0.007370</td>\n",
       "      <td>0.008912</td>\n",
       "      <td>-0.005074</td>\n",
       "      <td>0.004473</td>\n",
       "      <td>-0.004220</td>\n",
       "      <td>0.001799</td>\n",
       "      <td>-0.000832</td>\n",
       "      <td>-0.001641</td>\n",
       "      <td>0.075256</td>\n",
       "      <td>0.019380</td>\n",
       "      <td>0.019642</td>\n",
       "      <td>0.021804</td>\n",
       "      <td>0.032792</td>\n",
       "      <td>-0.000077</td>\n",
       "      <td>-0.005593</td>\n",
       "      <td>-0.000027</td>\n",
       "      <td>-0.002299</td>\n",
       "      <td>-0.009542</td>\n",
       "      <td>-0.026441</td>\n",
       "      <td>-0.029100</td>\n",
       "      <td>0.000333</td>\n",
       "    </tr>\n",
       "    <tr>\n",
       "      <th>2</th>\n",
       "      <td>-0.002875</td>\n",
       "      <td>-0.017316</td>\n",
       "      <td>-0.162718</td>\n",
       "      <td>-0.003497</td>\n",
       "      <td>0.008055</td>\n",
       "      <td>-0.032090</td>\n",
       "      <td>-0.003479</td>\n",
       "      <td>-0.002464</td>\n",
       "      <td>-0.009996</td>\n",
       "      <td>0.015771</td>\n",
       "      <td>-0.032670</td>\n",
       "      <td>-0.059874</td>\n",
       "      <td>-0.009326</td>\n",
       "      <td>-0.005039</td>\n",
       "      <td>-0.011812</td>\n",
       "      <td>0.025931</td>\n",
       "      <td>0.001818</td>\n",
       "      <td>-0.001179</td>\n",
       "      <td>-0.001283</td>\n",
       "      <td>-0.008415</td>\n",
       "      <td>-0.012406</td>\n",
       "      <td>0.021203</td>\n",
       "      <td>0.005492</td>\n",
       "      <td>0.034415</td>\n",
       "      <td>-0.016725</td>\n",
       "      <td>0.009769</td>\n",
       "      <td>-0.109109</td>\n",
       "      <td>-0.002734</td>\n",
       "      <td>0.044092</td>\n",
       "      <td>0.020929</td>\n",
       "      <td>-0.016518</td>\n",
       "      <td>-0.000720</td>\n",
       "    </tr>\n",
       "    <tr>\n",
       "      <th>3</th>\n",
       "      <td>-0.010246</td>\n",
       "      <td>0.008289</td>\n",
       "      <td>0.010866</td>\n",
       "      <td>-0.008909</td>\n",
       "      <td>0.001306</td>\n",
       "      <td>0.023130</td>\n",
       "      <td>0.012177</td>\n",
       "      <td>0.003673</td>\n",
       "      <td>0.011348</td>\n",
       "      <td>-0.003015</td>\n",
       "      <td>-0.021373</td>\n",
       "      <td>0.013831</td>\n",
       "      <td>-0.001943</td>\n",
       "      <td>-0.003485</td>\n",
       "      <td>0.009272</td>\n",
       "      <td>0.013487</td>\n",
       "      <td>-0.001611</td>\n",
       "      <td>-0.000863</td>\n",
       "      <td>-0.016697</td>\n",
       "      <td>0.008413</td>\n",
       "      <td>0.005703</td>\n",
       "      <td>-0.062948</td>\n",
       "      <td>0.014955</td>\n",
       "      <td>-0.012764</td>\n",
       "      <td>0.001433</td>\n",
       "      <td>-0.003736</td>\n",
       "      <td>0.006109</td>\n",
       "      <td>0.005996</td>\n",
       "      <td>0.000841</td>\n",
       "      <td>-0.017722</td>\n",
       "      <td>-0.094847</td>\n",
       "      <td>0.000016</td>\n",
       "    </tr>\n",
       "    <tr>\n",
       "      <th>4</th>\n",
       "      <td>-0.011243</td>\n",
       "      <td>-0.088563</td>\n",
       "      <td>0.005900</td>\n",
       "      <td>0.009445</td>\n",
       "      <td>-0.025618</td>\n",
       "      <td>0.018874</td>\n",
       "      <td>-0.045448</td>\n",
       "      <td>-0.005085</td>\n",
       "      <td>0.006636</td>\n",
       "      <td>-0.004315</td>\n",
       "      <td>-0.023316</td>\n",
       "      <td>0.016989</td>\n",
       "      <td>-0.016960</td>\n",
       "      <td>-0.003555</td>\n",
       "      <td>0.003617</td>\n",
       "      <td>-0.015555</td>\n",
       "      <td>0.002667</td>\n",
       "      <td>-0.000393</td>\n",
       "      <td>-0.020207</td>\n",
       "      <td>0.003838</td>\n",
       "      <td>0.014114</td>\n",
       "      <td>-0.011983</td>\n",
       "      <td>0.017997</td>\n",
       "      <td>-0.002503</td>\n",
       "      <td>0.006395</td>\n",
       "      <td>-0.001220</td>\n",
       "      <td>0.003949</td>\n",
       "      <td>0.003311</td>\n",
       "      <td>-0.007090</td>\n",
       "      <td>-0.010599</td>\n",
       "      <td>-0.009611</td>\n",
       "      <td>-0.002497</td>\n",
       "    </tr>\n",
       "  </tbody>\n",
       "</table>\n",
       "</div>"
      ],
      "text/plain": [
       "         0         1         2   ...        29        30        31\n",
       "0  0.034553  0.003081  0.001539  ... -0.041920 -0.003797 -0.004534\n",
       "1 -0.007550  0.019833 -0.019171  ... -0.026441 -0.029100  0.000333\n",
       "2 -0.002875 -0.017316 -0.162718  ...  0.020929 -0.016518 -0.000720\n",
       "3 -0.010246  0.008289  0.010866  ... -0.017722 -0.094847  0.000016\n",
       "4 -0.011243 -0.088563  0.005900  ... -0.010599 -0.009611 -0.002497\n",
       "\n",
       "[5 rows x 32 columns]"
      ]
     },
     "execution_count": 26,
     "metadata": {
      "tags": []
     },
     "output_type": "execute_result"
    }
   ],
   "source": [
    "df = pd.DataFrame(X_train)\n",
    "df.head()"
   ]
  },
  {
   "cell_type": "code",
   "execution_count": null,
   "metadata": {
    "colab": {
     "base_uri": "https://localhost:8080/",
     "height": 504
    },
    "id": "KybMupN43I9c",
    "outputId": "84544fba-b7b2-4128-ea7b-a1a191f80318"
   },
   "outputs": [
    {
     "data": {
      "text/plain": [
       "<matplotlib.axes._subplots.AxesSubplot at 0x7ff60d684490>"
      ]
     },
     "execution_count": 27,
     "metadata": {
      "tags": []
     },
     "output_type": "execute_result"
    },
    {
     "data": {
      "image/png": "[encoded data removed]",
      "text/plain": [
       "<Figure size 864x576 with 2 Axes>"
      ]
     },
     "metadata": {
      "needs_background": "light",
      "tags": []
     },
     "output_type": "display_data"
    }
   ],
   "source": [
    "corr = df.corr()\n",
    "plt.figure(figsize=(12, 8))\n",
    "sns.heatmap(corr)"
   ]
  },
  {
   "cell_type": "code",
   "execution_count": null,
   "metadata": {
    "colab": {
     "base_uri": "https://localhost:8080/"
    },
    "id": "Y4XMDX_2s4JR",
    "outputId": "457f9563-8ff6-4ac2-99b0-964841507279"
   },
   "outputs": [
    {
     "name": "stdout",
     "output_type": "stream",
     "text": [
      "              precision    recall  f1-score   support\n",
      "\n",
      "           0       1.00      0.98      0.99        53\n",
      "           1       0.94      0.92      0.93        50\n",
      "           2       0.94      0.98      0.96        47\n",
      "           3       0.98      0.96      0.97        54\n",
      "           4       0.95      1.00      0.98        60\n",
      "           5       0.94      0.95      0.95        66\n",
      "           6       0.98      0.98      0.98        53\n",
      "           7       1.00      0.96      0.98        55\n",
      "           8       0.91      0.93      0.92        43\n",
      "           9       0.96      0.93      0.95        59\n",
      "\n",
      "    accuracy                           0.96       540\n",
      "   macro avg       0.96      0.96      0.96       540\n",
      "weighted avg       0.96      0.96      0.96       540\n",
      "\n",
      "0.9611111111111111\n"
     ]
    }
   ],
   "source": [
    "from sklearn.neural_network import MLPClassifier\n",
    "from sklearn.metrics import classification_report\n",
    "\n",
    "clf = MLPClassifier(random_state=42, max_iter=2000)\n",
    "clf.fit(X_train, y_train)\n",
    "\n",
    "pred = clf.predict(X_test)\n",
    "\n",
    "print(classification_report(y_test, pred))\n",
    "\n",
    "print(clf.score(X_test, y_test))"
   ]
  },
  {
   "cell_type": "markdown",
   "metadata": {
    "id": "H8Gkzic8IW2W"
   },
   "source": [
    "# Usando whiten:"
   ]
  },
  {
   "cell_type": "code",
   "execution_count": null,
   "metadata": {
    "id": "dlNkyWmfIie4"
   },
   "outputs": [],
   "source": [
    "X_train, X_test, y_train, y_test = train_test_split(X, y, random_state=42, test_size=0.3)"
   ]
  },
  {
   "cell_type": "code",
   "execution_count": null,
   "metadata": {
    "colab": {
     "base_uri": "https://localhost:8080/",
     "height": 258
    },
    "id": "h7DXgO6hH71H",
    "outputId": "79908781-9f8f-420e-a841-457bab7e7f91"
   },
   "outputs": [
    {
     "name": "stderr",
     "output_type": "stream",
     "text": [
      "/usr/local/lib/python3.7/dist-packages/sklearn/decomposition/_fastica.py:119: ConvergenceWarning: FastICA did not converge. Consider increasing tolerance or the maximum number of iterations.\n",
      "  ConvergenceWarning)\n"
     ]
    },
    {
     "data": {
      "text/html": [
       "<div>\n",
       "<style scoped>\n",
       "    .dataframe tbody tr th:only-of-type {\n",
       "        vertical-align: middle;\n",
       "    }\n",
       "\n",
       "    .dataframe tbody tr th {\n",
       "        vertical-align: top;\n",
       "    }\n",
       "\n",
       "    .dataframe thead th {\n",
       "        text-align: right;\n",
       "    }\n",
       "</style>\n",
       "<table border=\"1\" class=\"dataframe\">\n",
       "  <thead>\n",
       "    <tr style=\"text-align: right;\">\n",
       "      <th></th>\n",
       "      <th>0</th>\n",
       "      <th>1</th>\n",
       "      <th>2</th>\n",
       "      <th>3</th>\n",
       "      <th>4</th>\n",
       "      <th>5</th>\n",
       "      <th>6</th>\n",
       "      <th>7</th>\n",
       "      <th>8</th>\n",
       "      <th>9</th>\n",
       "      <th>10</th>\n",
       "      <th>11</th>\n",
       "      <th>12</th>\n",
       "      <th>13</th>\n",
       "      <th>14</th>\n",
       "      <th>15</th>\n",
       "      <th>16</th>\n",
       "      <th>17</th>\n",
       "      <th>18</th>\n",
       "      <th>19</th>\n",
       "      <th>20</th>\n",
       "      <th>21</th>\n",
       "      <th>22</th>\n",
       "      <th>23</th>\n",
       "      <th>24</th>\n",
       "      <th>25</th>\n",
       "      <th>26</th>\n",
       "      <th>27</th>\n",
       "      <th>28</th>\n",
       "      <th>29</th>\n",
       "      <th>30</th>\n",
       "      <th>31</th>\n",
       "    </tr>\n",
       "  </thead>\n",
       "  <tbody>\n",
       "    <tr>\n",
       "      <th>0</th>\n",
       "      <td>-0.111071</td>\n",
       "      <td>-2.045404</td>\n",
       "      <td>1.511482</td>\n",
       "      <td>1.155465</td>\n",
       "      <td>2.316026</td>\n",
       "      <td>0.237128</td>\n",
       "      <td>-0.892299</td>\n",
       "      <td>0.971643</td>\n",
       "      <td>-0.354451</td>\n",
       "      <td>0.967257</td>\n",
       "      <td>0.372238</td>\n",
       "      <td>-0.140115</td>\n",
       "      <td>0.272292</td>\n",
       "      <td>-1.405841</td>\n",
       "      <td>0.363022</td>\n",
       "      <td>-0.470942</td>\n",
       "      <td>1.786707</td>\n",
       "      <td>-0.406222</td>\n",
       "      <td>-1.722642</td>\n",
       "      <td>-0.890283</td>\n",
       "      <td>-0.062013</td>\n",
       "      <td>-0.528574</td>\n",
       "      <td>-0.858276</td>\n",
       "      <td>0.905581</td>\n",
       "      <td>-1.180494</td>\n",
       "      <td>0.040375</td>\n",
       "      <td>0.767009</td>\n",
       "      <td>0.594032</td>\n",
       "      <td>1.576679</td>\n",
       "      <td>-0.874425</td>\n",
       "      <td>-0.176190</td>\n",
       "      <td>-2.270088</td>\n",
       "    </tr>\n",
       "    <tr>\n",
       "      <th>1</th>\n",
       "      <td>-0.300586</td>\n",
       "      <td>-1.958908</td>\n",
       "      <td>0.159660</td>\n",
       "      <td>-0.974397</td>\n",
       "      <td>-1.167197</td>\n",
       "      <td>-0.512872</td>\n",
       "      <td>0.182272</td>\n",
       "      <td>-0.341773</td>\n",
       "      <td>1.644865</td>\n",
       "      <td>-0.396754</td>\n",
       "      <td>1.137995</td>\n",
       "      <td>-1.093398</td>\n",
       "      <td>-0.819762</td>\n",
       "      <td>1.267984</td>\n",
       "      <td>1.078760</td>\n",
       "      <td>-0.787611</td>\n",
       "      <td>0.192067</td>\n",
       "      <td>0.398464</td>\n",
       "      <td>-1.367366</td>\n",
       "      <td>1.190544</td>\n",
       "      <td>0.690851</td>\n",
       "      <td>1.016590</td>\n",
       "      <td>-1.127521</td>\n",
       "      <td>0.214497</td>\n",
       "      <td>0.228390</td>\n",
       "      <td>-1.360141</td>\n",
       "      <td>-2.129374</td>\n",
       "      <td>0.059174</td>\n",
       "      <td>1.138637</td>\n",
       "      <td>-0.237880</td>\n",
       "      <td>-1.515430</td>\n",
       "      <td>1.448943</td>\n",
       "    </tr>\n",
       "    <tr>\n",
       "      <th>2</th>\n",
       "      <td>0.536489</td>\n",
       "      <td>1.920694</td>\n",
       "      <td>2.774074</td>\n",
       "      <td>-3.038076</td>\n",
       "      <td>0.122681</td>\n",
       "      <td>2.670481</td>\n",
       "      <td>1.541844</td>\n",
       "      <td>2.772012</td>\n",
       "      <td>0.927140</td>\n",
       "      <td>-1.934294</td>\n",
       "      <td>-0.294002</td>\n",
       "      <td>0.852435</td>\n",
       "      <td>1.284403</td>\n",
       "      <td>2.704015</td>\n",
       "      <td>-1.453364</td>\n",
       "      <td>0.858820</td>\n",
       "      <td>0.013722</td>\n",
       "      <td>-2.357834</td>\n",
       "      <td>1.829158</td>\n",
       "      <td>1.381883</td>\n",
       "      <td>-2.073250</td>\n",
       "      <td>-0.063006</td>\n",
       "      <td>-1.132204</td>\n",
       "      <td>-0.789055</td>\n",
       "      <td>0.045842</td>\n",
       "      <td>2.049776</td>\n",
       "      <td>2.229885</td>\n",
       "      <td>-4.033905</td>\n",
       "      <td>-0.850273</td>\n",
       "      <td>2.830954</td>\n",
       "      <td>-0.565947</td>\n",
       "      <td>-0.819816</td>\n",
       "    </tr>\n",
       "    <tr>\n",
       "      <th>3</th>\n",
       "      <td>1.169945</td>\n",
       "      <td>0.788718</td>\n",
       "      <td>-0.224141</td>\n",
       "      <td>-1.396017</td>\n",
       "      <td>0.800400</td>\n",
       "      <td>-0.127884</td>\n",
       "      <td>-0.665780</td>\n",
       "      <td>0.890317</td>\n",
       "      <td>1.127559</td>\n",
       "      <td>1.367520</td>\n",
       "      <td>0.359964</td>\n",
       "      <td>-1.421808</td>\n",
       "      <td>-0.345691</td>\n",
       "      <td>1.773420</td>\n",
       "      <td>-0.717832</td>\n",
       "      <td>0.797161</td>\n",
       "      <td>0.812528</td>\n",
       "      <td>-0.731756</td>\n",
       "      <td>-0.543854</td>\n",
       "      <td>-0.738128</td>\n",
       "      <td>1.759517</td>\n",
       "      <td>2.213661</td>\n",
       "      <td>2.119414</td>\n",
       "      <td>-1.428743</td>\n",
       "      <td>-0.018881</td>\n",
       "      <td>-1.598587</td>\n",
       "      <td>-2.231388</td>\n",
       "      <td>0.473675</td>\n",
       "      <td>-0.739610</td>\n",
       "      <td>0.251588</td>\n",
       "      <td>1.270889</td>\n",
       "      <td>1.294210</td>\n",
       "    </tr>\n",
       "    <tr>\n",
       "      <th>4</th>\n",
       "      <td>-0.840152</td>\n",
       "      <td>0.840457</td>\n",
       "      <td>0.159415</td>\n",
       "      <td>-0.500201</td>\n",
       "      <td>1.428182</td>\n",
       "      <td>0.326763</td>\n",
       "      <td>1.193255</td>\n",
       "      <td>0.862923</td>\n",
       "      <td>-1.865177</td>\n",
       "      <td>1.143316</td>\n",
       "      <td>1.042533</td>\n",
       "      <td>-1.847118</td>\n",
       "      <td>-1.560544</td>\n",
       "      <td>0.640910</td>\n",
       "      <td>-1.209504</td>\n",
       "      <td>0.257256</td>\n",
       "      <td>-0.211444</td>\n",
       "      <td>-1.095856</td>\n",
       "      <td>0.325905</td>\n",
       "      <td>-0.539395</td>\n",
       "      <td>-1.528922</td>\n",
       "      <td>1.821604</td>\n",
       "      <td>1.470336</td>\n",
       "      <td>-1.785633</td>\n",
       "      <td>1.212320</td>\n",
       "      <td>1.082515</td>\n",
       "      <td>0.834870</td>\n",
       "      <td>-0.625380</td>\n",
       "      <td>-1.820539</td>\n",
       "      <td>-0.207538</td>\n",
       "      <td>-0.669719</td>\n",
       "      <td>-1.196578</td>\n",
       "    </tr>\n",
       "  </tbody>\n",
       "</table>\n",
       "</div>"
      ],
      "text/plain": [
       "         0         1         2   ...        29        30        31\n",
       "0 -0.111071 -2.045404  1.511482  ... -0.874425 -0.176190 -2.270088\n",
       "1 -0.300586 -1.958908  0.159660  ... -0.237880 -1.515430  1.448943\n",
       "2  0.536489  1.920694  2.774074  ...  2.830954 -0.565947 -0.819816\n",
       "3  1.169945  0.788718 -0.224141  ...  0.251588  1.270889  1.294210\n",
       "4 -0.840152  0.840457  0.159415  ... -0.207538 -0.669719 -1.196578\n",
       "\n",
       "[5 rows x 32 columns]"
      ]
     },
     "execution_count": 30,
     "metadata": {
      "tags": []
     },
     "output_type": "execute_result"
    }
   ],
   "source": [
    "pca = PCA(random_state=42, n_components=32)\n",
    "ica = FastICA(random_state=42, max_iter=20000, whiten=False, tol=0.01)\n",
    "#O whiten False quer dizer que não quer aquela matriz com muita correlação na diagonal principal.\n",
    "#O processo de whitenning é um processo onde correlações são anulados\n",
    "# Ao desativá-lo isso quer dizer que o ICA vai apenas \"rotacionar\" os dados\n",
    "\n",
    "sc = StandardScaler()\n",
    "X_train = sc.fit_transform(X_train)\n",
    "X_test = sc.transform(X_test)\n",
    "\n",
    "X_train = pca.fit_transform(X_train)\n",
    "X_test = pca.transform(X_test)\n",
    "\n",
    "pca_corr = pd.DataFrame(X_train).corr()\n",
    "\n",
    "X_train = ica.fit_transform(X_train)\n",
    "X_test = ica.transform(X_test)\n",
    "\n",
    "df = pd.DataFrame(X_train)\n",
    "df.head()"
   ]
  },
  {
   "cell_type": "code",
   "execution_count": null,
   "metadata": {
    "colab": {
     "base_uri": "https://localhost:8080/",
     "height": 504
    },
    "id": "FwFGOCVhINPz",
    "outputId": "6015f786-aa85-40fc-c8a2-9b779869a30d"
   },
   "outputs": [
    {
     "data": {
      "text/plain": [
       "<matplotlib.axes._subplots.AxesSubplot at 0x7ff60fdc9750>"
      ]
     },
     "execution_count": 31,
     "metadata": {
      "tags": []
     },
     "output_type": "execute_result"
    },
    {
     "data": {
      "image/png": "[encoded data removed]",
      "text/plain": [
       "<Figure size 864x576 with 2 Axes>"
      ]
     },
     "metadata": {
      "needs_background": "light",
      "tags": []
     },
     "output_type": "display_data"
    }
   ],
   "source": [
    "corr = df.corr()\n",
    "plt.figure(figsize=(12, 8))\n",
    "sns.heatmap(corr)"
   ]
  },
  {
   "cell_type": "code",
   "execution_count": null,
   "metadata": {
    "colab": {
     "base_uri": "https://localhost:8080/"
    },
    "id": "_WVsi21eI3xr",
    "outputId": "7ca95e4f-259e-4503-88b8-1e097fa5250c"
   },
   "outputs": [
    {
     "name": "stdout",
     "output_type": "stream",
     "text": [
      "              precision    recall  f1-score   support\n",
      "\n",
      "           0       1.00      0.98      0.99        53\n",
      "           1       0.98      1.00      0.99        50\n",
      "           2       0.96      0.98      0.97        47\n",
      "           3       1.00      0.93      0.96        54\n",
      "           4       1.00      1.00      1.00        60\n",
      "           5       0.96      0.98      0.97        66\n",
      "           6       0.98      0.98      0.98        53\n",
      "           7       1.00      0.98      0.99        55\n",
      "           8       0.89      0.95      0.92        43\n",
      "           9       0.98      0.97      0.97        59\n",
      "\n",
      "    accuracy                           0.98       540\n",
      "   macro avg       0.97      0.98      0.97       540\n",
      "weighted avg       0.98      0.98      0.98       540\n",
      "\n",
      "0.975925925925926\n"
     ]
    }
   ],
   "source": [
    "from sklearn.neural_network import MLPClassifier\n",
    "from sklearn.metrics import classification_report\n",
    "\n",
    "clf = MLPClassifier(random_state=42, max_iter=2000)\n",
    "clf.fit(X_train, y_train)\n",
    "\n",
    "pred = clf.predict(X_test)\n",
    "\n",
    "print(classification_report(y_test, pred))\n",
    "\n",
    "print(clf.score(X_test, y_test))"
   ]
  }
 ],
 "metadata": {
  "colab": {
   "collapsed_sections": [],
   "name": "Neural Networks with ICA digits.ipynb",
   "provenance": []
  },
  "kernelspec": {
   "display_name": "Python 3",
   "language": "python",
   "name": "python3"
  },
  "language_info": {
   "codemirror_mode": {
    "name": "ipython",
    "version": 3
   },
   "file_extension": ".py",
   "mimetype": "text/x-python",
   "name": "python",
   "nbconvert_exporter": "python",
   "pygments_lexer": "ipython3",
   "version": "3.8.5"
  }
 },
 "nbformat": 4,
 "nbformat_minor": 1
}
